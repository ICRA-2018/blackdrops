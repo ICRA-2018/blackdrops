{
 "cells": [
  {
   "cell_type": "markdown",
   "metadata": {},
   "source": [
    "## Black-DROPS algorithm\n",
    "<a href=\"#roslab-run\"><img src=\"https://img.shields.io/badge/ROSLab-run-brightgreen.svg\"></a>\n",
    "\n",
    "Code for the:\n",
    "- IROS 2017 paper: \"Black-Box Data-efficient Policy Search for Robotics\"\n",
    "- ICRA 2018 paper: \"\n",
    "Using Parameterized Black-Box Priors to Scale Up Model-Based Policy Search for Robotics\"\n",
    "\n",
    "### Citing Black-DROPS\n",
    "\n",
    "If you use our code for a scientific paper, please cite:\n",
    "\n",
    "Chatzilygeroudis, K., Rama, R., Kaushik, R., Goepp, D., Vassiliades, V., & Mouret, J.-B. (2017). [Black-Box Data-efficient Policy Search for Robotics](https://arxiv.org/abs/1703.07261). *Proceedings of the IEEE/RSJ International Conference on Intelligent Robots and Systems (IROS)*.\n",
    "\n",
    "In BibTex:"
   ]
  },
  {
   "cell_type": "code",
   "execution_count": null,
   "metadata": {},
   "outputs": [],
   "source": [
    "@inproceedings{chatzilygeroudis2017black,\n",
    "    title={{Black-Box Data-efficient Policy Search for Robotics}},\n",
    "    author={Chatzilygeroudis, Konstantinos and Rama, Roberto and Kaushik, Rituraj and Goepp, Dorian and Vassiliades, Vassilis and Mouret, Jean-Baptiste},\n",
    "    booktitle={Proceedings of the IEEE/RSJ International Conference on Intelligent Robots and Systems},\n",
    "    year={2017},\n",
    "    organization={IEEE}\n",
    "}"
   ]
  },
  {
   "cell_type": "markdown",
   "metadata": {},
   "source": [
    "or:\n",
    "\n",
    "Chatzilygeroudis, K., & Mouret, J.-B. (2018). [Using Parameterized Black-Box Priors to Scale Up Model-Based Policy Search for Robotics](https://arxiv.org/pdf/1709.06917). *Proceedings of the International Conference on Robotics and Automation (ICRA)*.\n",
    "\n",
    "In BibTex:"
   ]
  },
  {
   "cell_type": "code",
   "execution_count": null,
   "metadata": {},
   "outputs": [],
   "source": [
    "@inproceedings{chatzilygeroudis2018using,\n",
    "    title={{Using Parameterized Black-Box Priors to Scale Up Model-Based Policy Search for Robotics}},\n",
    "    author={Chatzilygeroudis, Konstantinos and Mouret, Jean-Baptiste},\n",
    "    booktitle={Proceedings of the International Conference on Robotics and Automation},\n",
    "    year={2018},\n",
    "    organization={IEEE}\n",
    "}"
   ]
  },
  {
   "cell_type": "markdown",
   "metadata": {},
   "source": [
    "### Code developers/maintainers\n",
    "\n",
    "- Konstantinos Chatzilygeroudis (Inria): http://costashatz.github.io/ --- actively developing/maintaining the code\n",
    "- Rituraj Kaushik (Inria): http://tansigmoid.com/\n",
    "- Roberto Rama (Inria)\n",
    "\n",
    "Black-DROPS is funded by the ResiBots ERC Project (http://www.resibots.eu).\n",
    "\n",
    "### How to properly clone this repo\n",
    "\n",
    "- Clone the repo *recursively*: `git clone --recursive https://github.com/resibots/blackdrops.git` (or `git clone --recursive git@github.com:resibots/blackdrops.git`)\n",
    "- If you follow the [advanced installation](docs/advanced_installation.md), you do not necessarily need to clone recursively the repository.\n",
    "\n",
    "### What you should expect from Black-DROPS\n",
    "\n",
    "The Black-DROPS algorithm is a model-based policy search algorithm (the ICML 2015 [tutorial](http://icml.cc/2015/tutorials/PolicySearch.pdf) on policy search methods for robotics is a good source for reading) with the following main properties:\n",
    "\n",
    "- uses Gaussian processes (GPs) to model the dynamics of the robot/system\n",
    "- takes into account the uncertainty of the dynamical model when searching for a policy\n",
    "- is data-efficient or sample-efficient; i.e., it requires very small *interaction time* with the system to find a working policy (e.g., around 16-20 seconds to learn a policy for the cart-pole swing up task)\n",
    "- when several cores are available, it can be faster than analytical approaches (e.g., [PILCO](http://mlg.eng.cam.ac.uk/pilco/))\n",
    "- it imposes no constraints on the type of the reward function (more specifically we have examples where the reward function is learned from data)\n",
    "- it imposes no constraints on the type of the policy representation (any parameterized policy can be used --- for example, dynamic movement primitives or neural networks)\n",
    "\n",
    "To get a better idea of how well Black-DROPS works please check the [paper](https://arxiv.org/abs/1703.07261). Here are the main figures of the paper for quick reference (the \"No var\" variants are variants of Black-DROPS without taking into account the uncertainty of the model):\n",
    "\n",
    "<center>\n",
    "<img src=\"./imgs/pendulum_rewards.png\" width=\"400\">&nbsp;<img src=\"./imgs/cartpole_rewards.png\" width=\"400\">\n",
    "</center>\n",
    "\n",
    "### What you should NOT expect from Black-DROPS\n",
    "\n",
    "In short, you should:\n",
    "\n",
    "- NOT expect Black-DROPS to find very fast (in interaction time) high performing policies at every run: in the cart-pole swing up task, for example, the main trend (median) is that Black-DROPS finds a high performing policy after 16-20 seconds of interaction with the system, but it does fail sometimes completely to find any working policy after 15 episodes (60 seconds of interaction time); this also holds for analytical approaches like PILCO (see the [paper](https://arxiv.org/abs/1703.07261) for more details)\n",
    "- NOT expect Black-DROPS to find high performing policies very fast (in interaction time) when dealing with high dimensional state/action spaces (e.g., less than 8-10 episodes for a 15-D state/action space) or when dealing with difficult tasks (e.g. less than 20-25 episodes for the double cart-pole swing up task); the number of points needed to have a good model of the dynamics increases exponentially with the dimensions of the state/action space\n",
    "- NOT expect Black-DROPS to run fast (in computation time) in small computers; our results suggest that at least 8-12 cores are needed to get reasonable computation times for Black-DROPS (Black-DROPS heavily utilizes parallelization to improve its performance)\n",
    "\n",
    "### Using the code\n",
    "\n",
    "Please look at the [installation guide](docs/installation.md). You will find detailed guidelines on how to properly install all the dependencies, compile the Black-DROPS code and run scenarios. There is also an [advanced installation guide](docs/advanced_installation.md) which is recommended for users experienced with build systems and command line usage.\n",
    "\n",
    "### Already implemented scenarios\n",
    "\n",
    "Please look at the [implemented scenarios page](docs/implemented_scenarios.md). You will find a brief description of all the implemented scenarios and recommended parameters (e.g., number of maximum function evaluations for CMA-ES) for running them.\n",
    "\n",
    "### How to create your own scenario\n",
    "\n",
    "Please look at the [basic tutorial](docs/basic_tutorial.md). You will find detailed comments on how to create, compile and run your own scenarios.\n",
    "\n",
    "### How to create your own DART-based scenario\n",
    "\n",
    "Please look at the [DART scenarios tutorial](docs/dart_tutorial.md). Make sure that you have already read the [basic tutorial](docs/basic_tutorial.md), before proceeding to this one.\n",
    "\n",
    "\n",
    "<!--### Python Code\n",
    "\n",
    "We provide an implementation of Black-DROPS in python that is still in alpha version:\n",
    "\n",
    "- The core of the algorithm is implemented\n",
    "- Parallelization is not still working\n",
    "- Further investigation needs to be done concerning the accuracy of the GP models-->\n",
    "\n",
    "# ROSLab Run\n",
    "\n",
    "## Prerequisites:\n",
    "* [Docker](https://www.docker.com/)\n",
    "* [nvidia-docker](https://github.com/nvidia/nvidia-docker/wiki/Installation-(version-2.0))\n",
    "* Tested on Ubuntu Linux 16.04, Docker version 18.06.1-ce, NVIDIA Driver version 410.48.\n",
    "\n",
    "## 1. Clone the repository and build ROSLab image:"
   ]
  },
  {
   "cell_type": "code",
   "execution_count": null,
   "metadata": {},
   "outputs": [],
   "source": [
    "git clone https://github.com/ICRA-2018/blackdrops.git\n",
    "cd blackdrops\n",
    "./roslab_build"
   ]
  },
  {
   "cell_type": "markdown",
   "metadata": {},
   "source": [
    "## 2. Launch ROSLab image:"
   ]
  },
  {
   "cell_type": "code",
   "execution_count": null,
   "metadata": {},
   "outputs": [],
   "source": [
    "./roslab_run"
   ]
  },
  {
   "cell_type": "markdown",
   "metadata": {},
   "source": [
    "## 3. Open JupyterLab in your browser:\n",
    "[http://localhost:8888/lab/tree/README.ipynb](http://localhost:8888/lab/tree/README.ipynb)\n",
    "\n",
    "## 4. Run in JupyterLab:"
   ]
  },
  {
   "cell_type": "code",
   "execution_count": null,
   "metadata": {},
   "outputs": [],
   "source": [
    "source ./scripts/paths.sh"
   ]
  },
  {
   "cell_type": "code",
   "execution_count": null,
   "metadata": {},
   "outputs": [],
   "source": [
    "./deps/limbo/build/exp/blackdrops/src/classic_control/cartpole_simu"
   ]
  }
 ],

 "metadata": {
  "kernelspec": {
   "display_name": "Bash",
   "language": "bash",
   "name": "bash"
  },
  "language_info": {
   "codemirror_mode": "shell",
   "file_extension": ".sh",
   "mimetype": "text/x-sh",
   "name": "bash"
  }
 },
 "nbformat": 4,
 "nbformat_minor": 2
}
